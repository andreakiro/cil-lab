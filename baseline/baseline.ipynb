{
 "cells": [
  {
   "cell_type": "markdown",
   "metadata": {},
   "source": [
    "# Baseline submission\n",
    "Baseline solution presented during Tutorial 5. The method is defined as follows:\n",
    "1. normalization of each item\n",
    "2. imputation of missing values as 0s\n",
    "3. SVD with *k=3*\n",
    "4. SVD result used as initialization for ASL\n",
    "5. ALS with *k = 3*, *λ = 0.1* for 20 iterations\n",
    "\n",
    "Expected public score: 0.98777\n"
   ]
  },
  {
   "cell_type": "code",
   "execution_count": 1,
   "metadata": {},
   "outputs": [],
   "source": [
    "n_movies = 1000\n",
    "n_users = 10000"
   ]
  },
  {
   "cell_type": "markdown",
   "metadata": {},
   "source": [
    "### Step 0: Data loading"
   ]
  },
  {
   "cell_type": "code",
   "execution_count": 2,
   "metadata": {},
   "outputs": [
    {
     "data": {
      "text/html": [
       "<div>\n",
       "<style scoped>\n",
       "    .dataframe tbody tr th:only-of-type {\n",
       "        vertical-align: middle;\n",
       "    }\n",
       "\n",
       "    .dataframe tbody tr th {\n",
       "        vertical-align: top;\n",
       "    }\n",
       "\n",
       "    .dataframe thead th {\n",
       "        text-align: right;\n",
       "    }\n",
       "</style>\n",
       "<table border=\"1\" class=\"dataframe\">\n",
       "  <thead>\n",
       "    <tr style=\"text-align: right;\">\n",
       "      <th></th>\n",
       "      <th>Id</th>\n",
       "      <th>Prediction</th>\n",
       "    </tr>\n",
       "  </thead>\n",
       "  <tbody>\n",
       "    <tr>\n",
       "      <th>0</th>\n",
       "      <td>r44_c1</td>\n",
       "      <td>4</td>\n",
       "    </tr>\n",
       "    <tr>\n",
       "      <th>1</th>\n",
       "      <td>r61_c1</td>\n",
       "      <td>3</td>\n",
       "    </tr>\n",
       "    <tr>\n",
       "      <th>2</th>\n",
       "      <td>r67_c1</td>\n",
       "      <td>4</td>\n",
       "    </tr>\n",
       "    <tr>\n",
       "      <th>3</th>\n",
       "      <td>r72_c1</td>\n",
       "      <td>3</td>\n",
       "    </tr>\n",
       "    <tr>\n",
       "      <th>4</th>\n",
       "      <td>r86_c1</td>\n",
       "      <td>5</td>\n",
       "    </tr>\n",
       "    <tr>\n",
       "      <th>...</th>\n",
       "      <td>...</td>\n",
       "      <td>...</td>\n",
       "    </tr>\n",
       "    <tr>\n",
       "      <th>1176947</th>\n",
       "      <td>r9990_c1000</td>\n",
       "      <td>4</td>\n",
       "    </tr>\n",
       "    <tr>\n",
       "      <th>1176948</th>\n",
       "      <td>r9992_c1000</td>\n",
       "      <td>5</td>\n",
       "    </tr>\n",
       "    <tr>\n",
       "      <th>1176949</th>\n",
       "      <td>r9994_c1000</td>\n",
       "      <td>3</td>\n",
       "    </tr>\n",
       "    <tr>\n",
       "      <th>1176950</th>\n",
       "      <td>r9997_c1000</td>\n",
       "      <td>4</td>\n",
       "    </tr>\n",
       "    <tr>\n",
       "      <th>1176951</th>\n",
       "      <td>r10000_c1000</td>\n",
       "      <td>3</td>\n",
       "    </tr>\n",
       "  </tbody>\n",
       "</table>\n",
       "<p>1176952 rows × 2 columns</p>\n",
       "</div>"
      ],
      "text/plain": [
       "                   Id  Prediction\n",
       "0              r44_c1           4\n",
       "1              r61_c1           3\n",
       "2              r67_c1           4\n",
       "3              r72_c1           3\n",
       "4              r86_c1           5\n",
       "...               ...         ...\n",
       "1176947   r9990_c1000           4\n",
       "1176948   r9992_c1000           5\n",
       "1176949   r9994_c1000           3\n",
       "1176950   r9997_c1000           4\n",
       "1176951  r10000_c1000           3\n",
       "\n",
       "[1176952 rows x 2 columns]"
      ]
     },
     "execution_count": 2,
     "metadata": {},
     "output_type": "execute_result"
    }
   ],
   "source": [
    "import pandas as pd\n",
    "import numpy as np\n",
    "import math\n",
    "\n",
    "# load training data\n",
    "data_pd = pd.read_csv('../data/data_train.csv') \n",
    "data_pd"
   ]
  },
  {
   "cell_type": "code",
   "execution_count": 3,
   "metadata": {},
   "outputs": [],
   "source": [
    "# get users, movies\n",
    "users, movies = [np.squeeze(arr) \n",
    "                  for arr in np.split( data_pd.Id.str.extract('r(\\d+)_c(\\d+)').values.astype(int) - 1, 2, axis=-1)]\n",
    "# get predictions\n",
    "predictions = data_pd.Prediction.values"
   ]
  },
  {
   "cell_type": "code",
   "execution_count": 4,
   "metadata": {},
   "outputs": [
    {
     "data": {
      "text/plain": [
       "(10000, 1000)"
      ]
     },
     "execution_count": 4,
     "metadata": {},
     "output_type": "execute_result"
    }
   ],
   "source": [
    "# create data matrix\n",
    "data = np.full((n_users, n_movies), np.nan)\n",
    "W = np.full((n_users, n_movies), 0)\n",
    "data.shape"
   ]
  },
  {
   "cell_type": "code",
   "execution_count": 5,
   "metadata": {},
   "outputs": [
    {
     "data": {
      "text/plain": [
       "array([[nan, nan, nan, ..., nan, nan, nan],\n",
       "       [nan, nan, nan, ...,  5.,  3.,  3.],\n",
       "       [nan, nan, nan, ..., nan, nan, nan],\n",
       "       ...,\n",
       "       [nan, nan, nan, ..., nan, nan, nan],\n",
       "       [nan, nan, nan, ..., nan, nan, nan],\n",
       "       [nan, nan, nan, ..., nan, nan,  3.]])"
      ]
     },
     "execution_count": 5,
     "metadata": {},
     "output_type": "execute_result"
    }
   ],
   "source": [
    "# populate data matrix\n",
    "for user, movie, pred in zip(users, movies, predictions): \n",
    "    data[user][movie] = pred\n",
    "    W[user][movie] = 1 if not math.isnan(pred) else 0\n",
    "data"
   ]
  },
  {
   "cell_type": "code",
   "execution_count": 6,
   "metadata": {},
   "outputs": [
    {
     "name": "stdout",
     "output_type": "stream",
     "text": [
      "11.77% of the values are observed and 88.23 are unknown and must be predicted.\n"
     ]
    }
   ],
   "source": [
    "percent_visible=np.count_nonzero(~np.isnan(data))/(np.count_nonzero(np.isnan(data))+np.count_nonzero(~np.isnan(data)))\n",
    "print(f\"{percent_visible*100:.2f}% of the values are observed and {(1-percent_visible)*100:.2f} are unknown and must be predicted.\")"
   ]
  },
  {
   "cell_type": "markdown",
   "metadata": {},
   "source": [
    "### Step 1: Normalization"
   ]
  },
  {
   "cell_type": "code",
   "execution_count": 7,
   "metadata": {},
   "outputs": [],
   "source": [
    "# save mean and std to invert zscore\n",
    "mean_std = []\n",
    "for j in range(data.shape[1]):\n",
    "    mean = np.nanmean(data[:, j])\n",
    "    std = np.nanstd(data[:, j])\n",
    "    mean_std.append((mean, std))"
   ]
  },
  {
   "cell_type": "code",
   "execution_count": 8,
   "metadata": {},
   "outputs": [],
   "source": [
    "from scipy import stats\n",
    "\n",
    "# normalize data using z-score\n",
    "data = stats.zscore(data, axis=1, nan_policy='omit')"
   ]
  },
  {
   "cell_type": "markdown",
   "metadata": {},
   "source": [
    "### Step 2: Imputation"
   ]
  },
  {
   "cell_type": "code",
   "execution_count": 9,
   "metadata": {},
   "outputs": [],
   "source": [
    "from sklearn.impute import SimpleImputer\n",
    "\n",
    "data = SimpleImputer(missing_values=np.nan, strategy='constant', fill_value=0).fit_transform(data)"
   ]
  },
  {
   "cell_type": "markdown",
   "metadata": {},
   "source": [
    "### Step 3: SVD"
   ]
  },
  {
   "cell_type": "code",
   "execution_count": 10,
   "metadata": {},
   "outputs": [],
   "source": [
    "# SVD decomposition\n",
    "U, s, Vt = np.linalg.svd(data, full_matrices=False)\n",
    "# Using the top k eigenvalues, k=3\n",
    "k = 3\n",
    "S = np.zeros((n_movies, n_movies)) \n",
    "S[:k, :k] = np.diag(s[:k])"
   ]
  },
  {
   "cell_type": "markdown",
   "metadata": {},
   "source": [
    "### Steps 4 and 5: ASL"
   ]
  },
  {
   "cell_type": "code",
   "execution_count": 11,
   "metadata": {},
   "outputs": [],
   "source": [
    "# given parameters\n",
    "k = 3\n",
    "λ = 0.1\n",
    "n_iters = 20"
   ]
  },
  {
   "cell_type": "code",
   "execution_count": 12,
   "metadata": {},
   "outputs": [],
   "source": [
    "from sklearn.metrics import mean_squared_error\n",
    "\n",
    "# define ASL model\n",
    "class ASL:\n",
    "    \"\"\"\n",
    "    Train a matrix factorization model using Alternating Least Squares\n",
    "    to predict empty entries in a matrix\n",
    "    \n",
    "    Parameters\n",
    "    ----------\n",
    "    n_iters : int\n",
    "        number of iterations to train the algorithm\n",
    "        \n",
    "    k : int\n",
    "        number of latent factors to use in matrix \n",
    "        factorization model (rank)\n",
    "        \n",
    "    λ : float\n",
    "        regularization term for item/user latent factors\n",
    "    \"\"\"\n",
    "\n",
    "    def __init__(self, n_iters, k, λ):\n",
    "        self.λ = λ\n",
    "        self.n_iters = n_iters\n",
    "        self.k = k  \n",
    "        \n",
    "    def fit(self, data, U, V):\n",
    "        \"\"\"\n",
    "        pass in training and testing at the same time to record\n",
    "        model convergence, assuming both dataset is in the form\n",
    "        of User x Item matrix with cells as ratings\n",
    "        \"\"\"\n",
    "        self.n_user, self.n_movies = data.shape\n",
    "        self.U = U\n",
    "        self.V = V\n",
    "        \n",
    "        # record the training and testing mse for every iteration\n",
    "        # to show convergence later (usually, not worth it for production)\n",
    "        self.train_mse_record = []   \n",
    "        for _ in range(self.n_iters):\n",
    "            self.U = self._als_step(data.T, self.U, self.V)\n",
    "            self.V = self._als_step(data, self.V, self.U) \n",
    "            predictions = self.predict()\n",
    "            train_mse = self.compute_mse(data, predictions)\n",
    "            self.train_mse_record.append(train_mse)\n",
    "    \n",
    "    def _als_step(self, data, to_solve, fixed):\n",
    "        \"\"\"alternating least square step\"\"\"\n",
    "        to_solve = np.linalg.solve(fixed.dot(fixed.T) + self.λ * np.eye(self.k),\n",
    "                                   fixed.dot(data))\n",
    "        return to_solve\n",
    "    \n",
    "    def predict(self):\n",
    "        \"\"\"predict ratings for every user and item\"\"\"\n",
    "        return self.U.T.dot(self.V)\n",
    "    \n",
    "    @staticmethod\n",
    "    def compute_mse(y_true, y_pred):\n",
    "        \"\"\"ignore zero terms prior to comparing the mse\"\"\"\n",
    "        mask = np.nonzero(y_true)\n",
    "        mse = mean_squared_error(y_true[mask], y_pred[mask])\n",
    "        return mse"
   ]
  },
  {
   "cell_type": "code",
   "execution_count": 13,
   "metadata": {},
   "outputs": [],
   "source": [
    "# define ASL model\n",
    "class ASL2:\n",
    "    \"\"\"\n",
    "    Train a matrix factorization model using Alternating Least Squares\n",
    "    to predict empty entries in a matrix\n",
    "    \n",
    "    Parameters\n",
    "    ----------\n",
    "    n_iters : int\n",
    "        number of iterations to train the algorithm\n",
    "        \n",
    "    k : int\n",
    "        number of latent factors to use in matrix \n",
    "        factorization model (rank)\n",
    "        \n",
    "    λ : float\n",
    "        regularization term for item/user latent factors\n",
    "    \"\"\"\n",
    "\n",
    "    def __init__(self, n_iters, k, λ):\n",
    "        self.λ = λ\n",
    "        self.n_iters = n_iters\n",
    "        self.k = k  \n",
    "        \n",
    "    def fit(self, data, W, U, V):\n",
    "        \"\"\"\n",
    "        pass in training and testing at the same time to record\n",
    "        model convergence, assuming both dataset is in the form\n",
    "        of User x Item matrix with cells as ratings\n",
    "        \"\"\"\n",
    "        self.n_user, self.n_movies = data.shape\n",
    "        self.U = U\n",
    "        self.V = V\n",
    "        \n",
    "        # record the training and testing mse for every iteration\n",
    "        # to show convergence later (usually, not worth it for production)\n",
    "        self.train_mse_record = []   \n",
    "        for epoch in range(self.n_iters):\n",
    "            self.U, self.V = self._als_step(data, W, self.U, self.V)\n",
    "            predictions = self.predict()\n",
    "            train_mse = self.compute_mse(data, predictions)\n",
    "            print(f\"Epoch {epoch}, train_mse = {train_mse}\")\n",
    "            self.train_mse_record.append(train_mse)\n",
    "    \n",
    "    def _als_step(self, data, W, U, V):\n",
    "        \"\"\"alternating least square step\"\"\"\n",
    "        \n",
    "        \n",
    "        for i, Wi in enumerate(W):\n",
    "            U[i] = np.linalg.solve(np.dot(V, np.dot(np.diag(Wi), V.T)) + self.λ * np.eye(self.k),\n",
    "                                       np.dot(V, np.dot(np.diag(Wi), data[i].T))).T\n",
    "\n",
    "        for j, Wj in enumerate(W.T):\n",
    "            V[:,j] = np.linalg.solve(np.dot(U.T, np.dot(np.diag(Wj), U)) + self.λ * np.eye(self.k),\n",
    "                                     np.dot(U.T, np.dot(np.diag(Wj), data[:, j])))\n",
    "        \n",
    "        return U, V\n",
    "    \n",
    "    def predict(self):\n",
    "        \"\"\"predict ratings for every user and item\"\"\"\n",
    "        return self.U.dot(self.V)\n",
    "    \n",
    "    @staticmethod\n",
    "    def compute_mse(y_true, y_pred):\n",
    "        \"\"\"ignore zero terms prior to comparing the mse\"\"\"\n",
    "        mask = np.nonzero(y_true)\n",
    "        mse = mean_squared_error(y_true[mask], y_pred[mask])\n",
    "        return mse"
   ]
  },
  {
   "cell_type": "code",
   "execution_count": 14,
   "metadata": {},
   "outputs": [],
   "source": [
    "# initialize U and V for first version of ASL\n",
    "U1 = U[:, :k].T\n",
    "V1 = np.dot(S[:k, :k], Vt[:k, :])"
   ]
  },
  {
   "cell_type": "code",
   "execution_count": 15,
   "metadata": {},
   "outputs": [
    {
     "data": {
      "text/plain": [
       "[<matplotlib.lines.Line2D at 0x7f70df9a50a0>]"
      ]
     },
     "execution_count": 15,
     "metadata": {},
     "output_type": "execute_result"
    },
    {
     "data": {
      "image/png": "[encoded data removed]",
      "text/plain": [
       "<Figure size 432x288 with 1 Axes>"
      ]
     },
     "metadata": {
      "needs_background": "light"
     },
     "output_type": "display_data"
    }
   ],
   "source": [
    "import matplotlib.pyplot as plt\n",
    "\n",
    "# fit the model and plot the loss\n",
    "model = ASL(n_iters, k, λ)\n",
    "model.fit(data, U1, V1)\n",
    "plt.plot(range(20), model.train_mse_record)\n"
   ]
  },
  {
   "cell_type": "code",
   "execution_count": 16,
   "metadata": {},
   "outputs": [],
   "source": [
    "#Initialize U and V for ASL 2 (U is not transposed here):\n",
    "U2 = U[:, :k]\n",
    "V2 = np.dot(S[:k, :k], Vt[:k, :])"
   ]
  },
  {
   "cell_type": "code",
   "execution_count": 43,
   "metadata": {},
   "outputs": [
    {
     "name": "stdout",
     "output_type": "stream",
     "text": [
      "Epoch 0, train_mse = 0.7886526550341263\n",
      "Epoch 1, train_mse = 0.7869897683785337\n",
      "Epoch 2, train_mse = 0.7862737563543105\n",
      "Epoch 3, train_mse = 0.7858374798453163\n",
      "Epoch 4, train_mse = 0.7855282171122598\n",
      "Epoch 5, train_mse = 0.7852925967386639\n",
      "Epoch 6, train_mse = 0.785105942072317\n",
      "Epoch 7, train_mse = 0.7849544614332116\n",
      "Epoch 8, train_mse = 0.7848294399231374\n",
      "Epoch 9, train_mse = 0.7847249211834852\n",
      "Epoch 10, train_mse = 0.7846366212935961\n",
      "Epoch 11, train_mse = 0.7845613515831378\n",
      "Epoch 12, train_mse = 0.7844966803935701\n",
      "Epoch 13, train_mse = 0.7844407195865003\n",
      "Epoch 14, train_mse = 0.7843919821295382\n",
      "Epoch 15, train_mse = 0.7843492831398469\n",
      "Epoch 16, train_mse = 0.7843116690106362\n",
      "Epoch 17, train_mse = 0.7842783654749756\n",
      "Epoch 18, train_mse = 0.7842487388624566\n",
      "Epoch 19, train_mse = 0.7842222667801296\n"
     ]
    },
    {
     "data": {
      "text/plain": [
       "[<matplotlib.lines.Line2D at 0x7f6b82ddcc40>]"
      ]
     },
     "execution_count": 43,
     "metadata": {},
     "output_type": "execute_result"
    },
    {
     "data": {
      "image/png": "[encoded data removed]",
      "text/plain": [
       "<Figure size 432x288 with 1 Axes>"
      ]
     },
     "metadata": {
      "needs_background": "light"
     },
     "output_type": "display_data"
    }
   ],
   "source": [
    "import matplotlib.pyplot as plt\n",
    "\n",
    "# fit the model and plot the loss\n",
    "model = ASL2(n_iters, k, λ)\n",
    "model.fit(data, W, U2, V2)\n",
    "plt.plot(range(20), model.train_mse_record)\n"
   ]
  },
  {
   "cell_type": "code",
   "execution_count": 44,
   "metadata": {},
   "outputs": [],
   "source": [
    "# make predictions\n",
    "pred = model.predict()"
   ]
  },
  {
   "cell_type": "markdown",
   "metadata": {},
   "source": [
    "### Generate submission"
   ]
  },
  {
   "cell_type": "markdown",
   "metadata": {},
   "source": [
    "Generate .zip submission."
   ]
  },
  {
   "cell_type": "code",
   "execution_count": 65,
   "metadata": {},
   "outputs": [],
   "source": [
    "# load sample submission\n",
    "sample = pd.read_csv('../data/sampleSubmission.csv') "
   ]
  },
  {
   "cell_type": "code",
   "execution_count": 66,
   "metadata": {},
   "outputs": [
    {
     "data": {
      "text/html": [
       "<div>\n",
       "<style scoped>\n",
       "    .dataframe tbody tr th:only-of-type {\n",
       "        vertical-align: middle;\n",
       "    }\n",
       "\n",
       "    .dataframe tbody tr th {\n",
       "        vertical-align: top;\n",
       "    }\n",
       "\n",
       "    .dataframe thead th {\n",
       "        text-align: right;\n",
       "    }\n",
       "</style>\n",
       "<table border=\"1\" class=\"dataframe\">\n",
       "  <thead>\n",
       "    <tr style=\"text-align: right;\">\n",
       "      <th></th>\n",
       "      <th>Id</th>\n",
       "      <th>Prediction</th>\n",
       "    </tr>\n",
       "  </thead>\n",
       "  <tbody>\n",
       "    <tr>\n",
       "      <th>0</th>\n",
       "      <td>r37_c1</td>\n",
       "      <td>3.0</td>\n",
       "    </tr>\n",
       "    <tr>\n",
       "      <th>1</th>\n",
       "      <td>r73_c1</td>\n",
       "      <td>3.0</td>\n",
       "    </tr>\n",
       "    <tr>\n",
       "      <th>2</th>\n",
       "      <td>r156_c1</td>\n",
       "      <td>3.0</td>\n",
       "    </tr>\n",
       "    <tr>\n",
       "      <th>3</th>\n",
       "      <td>r160_c1</td>\n",
       "      <td>3.0</td>\n",
       "    </tr>\n",
       "    <tr>\n",
       "      <th>4</th>\n",
       "      <td>r248_c1</td>\n",
       "      <td>3.0</td>\n",
       "    </tr>\n",
       "    <tr>\n",
       "      <th>...</th>\n",
       "      <td>...</td>\n",
       "      <td>...</td>\n",
       "    </tr>\n",
       "    <tr>\n",
       "      <th>1176947</th>\n",
       "      <td>r9974_c1000</td>\n",
       "      <td>3.0</td>\n",
       "    </tr>\n",
       "    <tr>\n",
       "      <th>1176948</th>\n",
       "      <td>r9977_c1000</td>\n",
       "      <td>3.0</td>\n",
       "    </tr>\n",
       "    <tr>\n",
       "      <th>1176949</th>\n",
       "      <td>r9978_c1000</td>\n",
       "      <td>3.0</td>\n",
       "    </tr>\n",
       "    <tr>\n",
       "      <th>1176950</th>\n",
       "      <td>r9982_c1000</td>\n",
       "      <td>3.0</td>\n",
       "    </tr>\n",
       "    <tr>\n",
       "      <th>1176951</th>\n",
       "      <td>r9996_c1000</td>\n",
       "      <td>3.0</td>\n",
       "    </tr>\n",
       "  </tbody>\n",
       "</table>\n",
       "<p>1176952 rows × 2 columns</p>\n",
       "</div>"
      ],
      "text/plain": [
       "                  Id  Prediction\n",
       "0             r37_c1         3.0\n",
       "1             r73_c1         3.0\n",
       "2            r156_c1         3.0\n",
       "3            r160_c1         3.0\n",
       "4            r248_c1         3.0\n",
       "...              ...         ...\n",
       "1176947  r9974_c1000         3.0\n",
       "1176948  r9977_c1000         3.0\n",
       "1176949  r9978_c1000         3.0\n",
       "1176950  r9982_c1000         3.0\n",
       "1176951  r9996_c1000         3.0\n",
       "\n",
       "[1176952 rows x 2 columns]"
      ]
     },
     "execution_count": 66,
     "metadata": {},
     "output_type": "execute_result"
    }
   ],
   "source": [
    "sample = sample.astype({\"Prediction\": float}, errors='raise')\n",
    "sample"
   ]
  },
  {
   "cell_type": "code",
   "execution_count": 68,
   "metadata": {},
   "outputs": [
    {
     "data": {
      "text/html": [
       "<div>\n",
       "<style scoped>\n",
       "    .dataframe tbody tr th:only-of-type {\n",
       "        vertical-align: middle;\n",
       "    }\n",
       "\n",
       "    .dataframe tbody tr th {\n",
       "        vertical-align: top;\n",
       "    }\n",
       "\n",
       "    .dataframe thead th {\n",
       "        text-align: right;\n",
       "    }\n",
       "</style>\n",
       "<table border=\"1\" class=\"dataframe\">\n",
       "  <thead>\n",
       "    <tr style=\"text-align: right;\">\n",
       "      <th></th>\n",
       "      <th>Id</th>\n",
       "      <th>Prediction</th>\n",
       "    </tr>\n",
       "  </thead>\n",
       "  <tbody>\n",
       "    <tr>\n",
       "      <th>0</th>\n",
       "      <td>r37_c1</td>\n",
       "      <td>2.948636</td>\n",
       "    </tr>\n",
       "    <tr>\n",
       "      <th>1</th>\n",
       "      <td>r73_c1</td>\n",
       "      <td>2.959084</td>\n",
       "    </tr>\n",
       "    <tr>\n",
       "      <th>2</th>\n",
       "      <td>r156_c1</td>\n",
       "      <td>2.782188</td>\n",
       "    </tr>\n",
       "    <tr>\n",
       "      <th>3</th>\n",
       "      <td>r160_c1</td>\n",
       "      <td>2.966475</td>\n",
       "    </tr>\n",
       "    <tr>\n",
       "      <th>4</th>\n",
       "      <td>r248_c1</td>\n",
       "      <td>3.039603</td>\n",
       "    </tr>\n",
       "    <tr>\n",
       "      <th>...</th>\n",
       "      <td>...</td>\n",
       "      <td>...</td>\n",
       "    </tr>\n",
       "    <tr>\n",
       "      <th>1176947</th>\n",
       "      <td>r9974_c1000</td>\n",
       "      <td>3.494738</td>\n",
       "    </tr>\n",
       "    <tr>\n",
       "      <th>1176948</th>\n",
       "      <td>r9977_c1000</td>\n",
       "      <td>3.221030</td>\n",
       "    </tr>\n",
       "    <tr>\n",
       "      <th>1176949</th>\n",
       "      <td>r9978_c1000</td>\n",
       "      <td>3.448843</td>\n",
       "    </tr>\n",
       "    <tr>\n",
       "      <th>1176950</th>\n",
       "      <td>r9982_c1000</td>\n",
       "      <td>3.328571</td>\n",
       "    </tr>\n",
       "    <tr>\n",
       "      <th>1176951</th>\n",
       "      <td>r9996_c1000</td>\n",
       "      <td>3.507358</td>\n",
       "    </tr>\n",
       "  </tbody>\n",
       "</table>\n",
       "<p>1176952 rows × 2 columns</p>\n",
       "</div>"
      ],
      "text/plain": [
       "                  Id  Prediction\n",
       "0             r37_c1    2.948636\n",
       "1             r73_c1    2.959084\n",
       "2            r156_c1    2.782188\n",
       "3            r160_c1    2.966475\n",
       "4            r248_c1    3.039603\n",
       "...              ...         ...\n",
       "1176947  r9974_c1000    3.494738\n",
       "1176948  r9977_c1000    3.221030\n",
       "1176949  r9978_c1000    3.448843\n",
       "1176950  r9982_c1000    3.328571\n",
       "1176951  r9996_c1000    3.507358\n",
       "\n",
       "[1176952 rows x 2 columns]"
      ]
     },
     "execution_count": 68,
     "metadata": {},
     "output_type": "execute_result"
    }
   ],
   "source": [
    "import re\n",
    "\n",
    "for index, row in sample.iterrows():\n",
    "    r, c = re.findall(r'r(\\d+)_c(\\d+)', row[\"Id\"])[0]\n",
    "    sample.at[index, \"Prediction\"] = pred[int(r)-1][int(c)-1]*mean_std[int(c)-1][1]+mean_std[int(c)-1][0]\n",
    "\n",
    "sample"
   ]
  },
  {
   "cell_type": "code",
   "execution_count": 69,
   "metadata": {},
   "outputs": [],
   "source": [
    "sample.to_csv(\"submission.zip\", compression=\"zip\", float_format='%.3f', index = None)"
   ]
  },
  {
   "cell_type": "markdown",
   "metadata": {},
   "source": [
    "Submit the solution to Kaggle."
   ]
  },
  {
   "cell_type": "code",
   "execution_count": 70,
   "metadata": {},
   "outputs": [
    {
     "name": "stdout",
     "output_type": "stream",
     "text": [
      "Warning: Your Kaggle API key is readable by other users on this system! To fix this, you can run 'chmod 600 /home/loic/.kaggle/kaggle.json'\n",
      "100%|███████████████████████████████████████| 5.43M/5.43M [00:05<00:00, 994kB/s]\n",
      "Successfully submitted to ETHZ CIL Collaborative Filtering 2022"
     ]
    }
   ],
   "source": [
    "!kaggle competitions submit -c cil-collaborative-filtering-2022 -f submission_3.zip -m \"Baseline with mask\""
   ]
  },
  {
   "cell_type": "code",
   "execution_count": null,
   "metadata": {},
   "outputs": [],
   "source": []
  }
 ],
 "metadata": {
  "interpreter": {
   "hash": "59da5730dedb63725a03eabf87c185a851ce9975367f26494a6abd6e4b560c65"
  },
  "kernelspec": {
   "display_name": "Python 3",
   "language": "python",
   "name": "python3"
  },
  "language_info": {
   "codemirror_mode": {
    "name": "ipython",
    "version": 3
   },
   "file_extension": ".py",
   "mimetype": "text/x-python",
   "name": "python",
   "nbconvert_exporter": "python",
   "pygments_lexer": "ipython3",
   "version": "3.9.1"
  }
 },
 "nbformat": 4,
 "nbformat_minor": 2
}
