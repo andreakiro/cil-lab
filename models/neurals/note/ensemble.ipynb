{
 "cells": [
  {
   "cell_type": "code",
   "execution_count": 1,
   "metadata": {},
   "outputs": [],
   "source": [
    "import pandas as pd\n",
    "import numpy as np"
   ]
  },
  {
   "cell_type": "code",
   "execution_count": 2,
   "metadata": {},
   "outputs": [],
   "source": [
    "def linear_comb(models: list, weights: list):\n",
    "    assert len(models) == len(weights)\n",
    "    assert sum(weights) == 1.0\n",
    "    ratings = np.zeros(models[0].shape)\n",
    "    for i, model in enumerate(models):\n",
    "        ratings += model * weights[i]\n",
    "    return ratings"
   ]
  },
  {
   "cell_type": "code",
   "execution_count": 3,
   "metadata": {},
   "outputs": [],
   "source": [
    "def model_pool(filenames: list):\n",
    "    models = []\n",
    "    for filename in filenames:\n",
    "        models.append(np.array(pd.read_csv(filename).Prediction))\n",
    "    return models"
   ]
  },
  {
   "cell_type": "code",
   "execution_count": 4,
   "metadata": {},
   "outputs": [],
   "source": [
    "def submission_data(sample, ratings):\n",
    "    sub_data = sample[['Id']]\n",
    "    sub_data['Prediction'] = ratings\n",
    "    return sub_data"
   ]
  },
  {
   "cell_type": "code",
   "execution_count": 5,
   "metadata": {},
   "outputs": [],
   "source": [
    "weights = [0.5, 0.5]\n",
    "filenames = [\n",
    "    'path_to_model_out_1',\n",
    "    'path_to_model_out_2'\n",
    "]"
   ]
  },
  {
   "cell_type": "code",
   "execution_count": 6,
   "metadata": {},
   "outputs": [],
   "source": [
    "models = model_pool(filenames)\n",
    "ratings = linear_comb(models, weights)\n",
    "sub_data = submission_data(pd.read_csv(filenames[0]), ratings)\n",
    "sub_data.to_csv('new_sub.csv', float_format='%.5f', index=False)"
   ]
  },
  {
   "cell_type": "code",
   "execution_count": 7,
   "metadata": {},
   "outputs": [
    {
     "data": {
      "text/plain": [
       "[array([3.33103776, 2.97753072, 3.76358819, ..., 3.36956191, 3.29498601,\n",
       "        3.7633574 ]),\n",
       " array([3.26715, 3.12128, 3.68014, ..., 3.21034, 3.30583, 3.81258])]"
      ]
     },
     "execution_count": 7,
     "metadata": {},
     "output_type": "execute_result"
    }
   ],
   "source": [
    "models"
   ]
  },
  {
   "cell_type": "code",
   "execution_count": null,
   "metadata": {},
   "outputs": [],
   "source": []
  }
 ],
 "metadata": {
  "kernelspec": {
   "display_name": "Python 3.8.13 ('cil')",
   "language": "python",
   "name": "python3"
  },
  "language_info": {
   "codemirror_mode": {
    "name": "ipython",
    "version": 3
   },
   "file_extension": ".py",
   "mimetype": "text/x-python",
   "name": "python",
   "nbconvert_exporter": "python",
   "pygments_lexer": "ipython3",
   "version": "3.8.13"
  },
  "orig_nbformat": 4,
  "vscode": {
   "interpreter": {
    "hash": "9578fd8f755c4dadd53a966b68f04ee9038779ad3586d048bc95f7ded4d3c777"
   }
  }
 },
 "nbformat": 4,
 "nbformat_minor": 2
}
