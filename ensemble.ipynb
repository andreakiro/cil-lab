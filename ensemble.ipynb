{
 "cells": [
  {
   "cell_type": "markdown",
   "metadata": {},
   "source": [
    "### Regression ensembling"
   ]
  },
  {
   "cell_type": "code",
   "execution_count": 1,
   "metadata": {},
   "outputs": [],
   "source": [
    "import pandas as pd\n",
    "import numpy as np\n",
    "\n",
    "test = pd.read_csv('log/ensemble/test_true.csv')['Prediction']\n",
    "# bfm_preds = pd.read_csv('log/ensemble/bfm_preds.csv')['Prediction']\n",
    "# als_preds = pd.read_csv('log/ensemble/als_preds.csv')['Prediction']\n",
    "# funk_pred = pd.read_csv('log/ensemble/funk_preds.csv')['Prediction']\n",
    "sim_preds2 = pd.read_csv('log/ensemble/sim_preds_w_none_n_30.csv')['Prediction']\n",
    "sim_preds3 = pd.read_csv('log/ensemble/sim_preds_w_none_n_10000.csv')['Prediction']\n",
    "sim_preds4 = pd.read_csv('log/ensemble/sim_preds_w_normal_n_30.csv')['Prediction']\n",
    "sim_preds5 = pd.read_csv('log/ensemble/sim_preds_w_normal_n_10000.csv')['Prediction']\n",
    "sim_preds6 = pd.read_csv('log/ensemble/sim_preds_w_normal_n_30_improved.csv')['Prediction']\n",
    "sim_cosine = pd.read_csv('log/ensemble/sim_cosine.csv')['Prediction']\n",
    "bfm1 = pd.read_csv('log/ensemble/bfm_preds_.csv')['Prediction']\n",
    "bfm2 = pd.read_csv('log/ensemble/bfm_preds_ii.csv')['Prediction']\n",
    "bfm3= pd.read_csv('log/ensemble/bfm_preds_iu_ii.csv')['Prediction']\n",
    "bfm4= pd.read_csv('log/ensemble/bfm_preds_iu.csv')['Prediction']\n",
    "bfm5 = pd.read_csv('log/ensemble/bfm_preds_ord_ii.csv')['Prediction']\n",
    "bfm6 = pd.read_csv('log/ensemble/bfm_preds_ord_iu.csv')['Prediction']\n",
    "bfm7 = pd.read_csv('log/ensemble/bfm_preds_ord.csv')['Prediction']\n",
    "bfm8 = pd.read_csv('log/ensemble/bfm_preds_ord_iu_ii.csv')['Prediction']\n",
    "# sim_sigra = pd.read_csv('log/ensemble/sim_sigra.csv')['Prediction']\n",
    "# deeprec = pd.read_csv('log/ensemble/deeprec.csv')['Prediction']\n",
    "# deeprec300 = pd.read_csv('log/ensemble/deeprec_300.csv')['Prediction']"
   ]
  },
  {
   "cell_type": "code",
   "execution_count": 2,
   "metadata": {},
   "outputs": [
    {
     "name": "stdout",
     "output_type": "stream",
     "text": [
      "(235391, 13) (235391,)\n"
     ]
    }
   ],
   "source": [
    "import numpy as np\n",
    "\n",
    "X = np.stack((bfm1, bfm2, bfm3, bfm4, bfm5, bfm6, bfm7, bfm8, sim_preds4, sim_preds3, sim_preds2, sim_preds5, sim_preds6), axis=1)\n",
    "y = test.values\n",
    "print(X.shape, y.shape)"
   ]
  },
  {
   "cell_type": "code",
   "execution_count": 3,
   "metadata": {},
   "outputs": [],
   "source": [
    "from sklearn.model_selection import RepeatedKFold, cross_val_score\n",
    "from sklearn.linear_model import LinearRegression, Lasso, Ridge\n",
    "import matplotlib.pyplot as plt\n",
    "from xgboost import XGBRegressor\n",
    "from sklearn.neural_network import MLPRegressor\n",
    "from sklearn.ensemble import RandomForestRegressor\n",
    "\n",
    "kf = RepeatedKFold(n_splits=5, n_repeats=3, random_state=42)\n",
    "results, names = [], []\n",
    "\n",
    "models = {\n",
    "    \"LinearReg\" : LinearRegression(),\n",
    "    \"Lasso\" : Lasso(alpha=0.001),\n",
    "    \"Ridge\" : Ridge(alpha=0.01),\n",
    "    \"XGBoost\" : XGBRegressor(n_estimators=100, max_depth=7, n_jobs=-1),\n",
    "    'MLP' : MLPRegressor(random_state=42, max_iter=1000),\n",
    "    'RF' : RandomForestRegressor(max_depth=2, random_state=0, n_jobs=-1),\n",
    "}"
   ]
  },
  {
   "cell_type": "code",
   "execution_count": 4,
   "metadata": {},
   "outputs": [
    {
     "name": "stdout",
     "output_type": "stream",
     "text": [
      "LinearReg : 0.968703 (0.002044) Coef: -0.12417 0.31809 0.35167 -0.26340 0.20473 -0.01605 -0.28772 0.70738 -0.04782 -0.67399 0.10244 0.56205 0.14736\n",
      "Lasso : 0.969304 (0.002012) Coef: -0.00000 0.11723 0.12836 -0.00000 0.00000 0.00000 -0.00000 0.66494 0.12595 -0.06318 0.00000 -0.00000 0.02134\n",
      "Ridge : 0.968703 (0.002044) \n",
      "XGBoost : 0.979377 (0.002036) \n",
      "MLP : 0.970320 (0.002473) \n",
      "RF : 0.983676 (0.002287) \n"
     ]
    },
    {
     "data": {
      "image/png": "[encoded data removed]",
      "text/plain": [
       "<Figure size 432x288 with 1 Axes>"
      ]
     },
     "metadata": {
      "needs_background": "light"
     },
     "output_type": "display_data"
    }
   ],
   "source": [
    "for name, model in models.items():\n",
    "    scores = cross_val_score(model, X, y, scoring='neg_root_mean_squared_error', cv=kf, n_jobs=-1)\n",
    "    if(name == \"LinearReg\"): model.fit(X, y) \n",
    "    if(name == \"Lasso\"): model.fit(X, y) \n",
    "    results.append((-scores))\n",
    "    names.append(name)\n",
    "    print(name, ': %.6f (%.6f)' % (np.mean(-scores), np.std(-scores)), \"Coef: \" + \" \".join([\"%0.5f\" % x for x in model.coef_]) if name == \"LinearReg\" or name == \"Lasso\" else \"\")\n",
    "\n",
    "# plot model performance for comparison\n",
    "plt.boxplot(results, labels=names, showmeans=True)\n",
    "plt.show()"
   ]
  },
  {
   "cell_type": "markdown",
   "metadata": {},
   "source": [
    "Feature evaluation\n",
    "| Models | rmse | std|\n",
    "|---|---|---|\n",
    "|BFM|0.97020|0.00205|\n",
    "| all BFM| 0.96981| 0.00205|\n",
    "|BFM + PCC_30|0.96968|0.00203|\n",
    "|BFM + all_PCC| 0.96939|  0.00206 |\n",
    "|BFM + PCC_30 + SiGra + Cosine| 0.96956|  0.00204 |   \n",
    "| BFM + all_similarities | 0.96940 | 0.00206|\n",
    "|BFM + DeepRec + PCC_30 | 0.96969 | 0.00203 |\n",
    "| all_BFM + all_similarities | **0.96870** | 0.00204|\n",
    "\n",
    "Regression models comparison\n",
    "\n",
    "| Models | rmse | std|\n",
    "|---|---|---|\n",
    "| Linear Regression | **0.96870** | 0.00204|\n",
    "| Lasso| 0.96930| 0.00201|\n",
    "|Ridge|0.96870|0.00204|\n",
    "|XGBoost| 0.97937|  0.00203 |\n",
    "|MLP| 0.97032|  0.00203|   \n",
    "| RF | 0.98367 | 0.00228|"
   ]
  },
  {
   "cell_type": "markdown",
   "metadata": {},
   "source": [
    "## Generate final submission\n",
    "Load test data."
   ]
  },
  {
   "cell_type": "code",
   "execution_count": 5,
   "metadata": {},
   "outputs": [],
   "source": [
    "from utils.utils import generate_submission\n",
    "\n",
    "sim_preds2 = pd.read_csv('log/ensemble_test/sim_preds_w_none_n_30.csv')['Prediction']\n",
    "sim_preds3 = pd.read_csv('log/ensemble_test/sim_preds_w_none_n_10000.csv')['Prediction']\n",
    "sim_preds4 = pd.read_csv('log/ensemble_test/sim_preds_w_normal_n_30.csv')['Prediction']\n",
    "sim_preds5 = pd.read_csv('log/ensemble_test/sim_preds_w_normal_n_10000.csv')['Prediction']\n",
    "sim_preds6 = pd.read_csv('log/ensemble_test/sim_preds_w_normal_n_30_improved.csv')['Prediction']\n",
    "bfm1 = pd.read_csv('log/ensemble_test/bfm_preds__sub.csv')['Prediction']\n",
    "bfm2 = pd.read_csv('log/ensemble_test/bfm_preds_ii_sub.csv')['Prediction']\n",
    "bfm3= pd.read_csv('log/ensemble_test/bfm_preds_iu_ii_sub.csv')['Prediction']\n",
    "bfm4= pd.read_csv('log/ensemble_test/bfm_preds_iu_sub.csv')['Prediction']\n",
    "bfm5 = pd.read_csv('log/ensemble_test/bfm_preds_ord_ii_sub.csv')['Prediction']\n",
    "bfm6 = pd.read_csv('log/ensemble_test/bfm_preds_ord_iu_sub.csv')['Prediction']\n",
    "bfm7 = pd.read_csv('log/ensemble_test/bfm_preds_ord_sub.csv')['Prediction']\n",
    "bfm8 = pd.read_csv('log/ensemble_test/bfm_preds_ord_iu_ii_sub.csv')['Prediction']"
   ]
  },
  {
   "cell_type": "markdown",
   "metadata": {},
   "source": [
    "Define the regression model and fit it with training data."
   ]
  },
  {
   "cell_type": "code",
   "execution_count": 6,
   "metadata": {},
   "outputs": [
    {
     "data": {
      "text/plain": [
       "LinearRegression()"
      ]
     },
     "execution_count": 6,
     "metadata": {},
     "output_type": "execute_result"
    }
   ],
   "source": [
    "regressor = LinearRegression()\n",
    "regressor.fit(X, y)"
   ]
  },
  {
   "cell_type": "markdown",
   "metadata": {},
   "source": [
    "Predict results for test data."
   ]
  },
  {
   "cell_type": "code",
   "execution_count": 7,
   "metadata": {},
   "outputs": [],
   "source": [
    "X_test = np.stack((bfm1, bfm2, bfm3, bfm4, bfm5, bfm6, bfm7, bfm8, sim_preds4, sim_preds3, sim_preds2, sim_preds5, sim_preds6), axis=1)\n",
    "regressor_preds = regressor.predict(X_test)"
   ]
  },
  {
   "cell_type": "markdown",
   "metadata": {},
   "source": [
    "Save the final submissions."
   ]
  },
  {
   "cell_type": "code",
   "execution_count": 8,
   "metadata": {},
   "outputs": [],
   "source": [
    "generate_submission(regressor_preds, 'data/sampleSubmission.csv', name=\"final_ensemble.zip\")"
   ]
  },
  {
   "cell_type": "markdown",
   "metadata": {},
   "source": [
    "Submit to Kaggle."
   ]
  },
  {
   "cell_type": "code",
   "execution_count": 9,
   "metadata": {},
   "outputs": [
    {
     "name": "stderr",
     "output_type": "stream",
     "text": [
      "100%|██████████| 5.61M/5.61M [00:14<00:00, 402kB/s] \n"
     ]
    },
    {
     "name": "stdout",
     "output_type": "stream",
     "text": [
      "Successfully submitted to ETHZ CIL Collaborative Filtering 2022"
     ]
    }
   ],
   "source": [
    "from utils.utils import submit_on_kaggle\n",
    "submit_on_kaggle(name=\"final_ensemble.zip\", message=\"all BFM + all similarities ensemble real\")"
   ]
  },
  {
   "cell_type": "code",
   "execution_count": null,
   "metadata": {},
   "outputs": [],
   "source": []
  }
 ],
 "metadata": {
  "kernelspec": {
   "display_name": "Python 3.8.13 ('cil')",
   "language": "python",
   "name": "python3"
  },
  "language_info": {
   "codemirror_mode": {
    "name": "ipython",
    "version": 3
   },
   "file_extension": ".py",
   "mimetype": "text/x-python",
   "name": "python",
   "nbconvert_exporter": "python",
   "pygments_lexer": "ipython3",
   "version": "3.8.13"
  },
  "orig_nbformat": 4,
  "vscode": {
   "interpreter": {
    "hash": "59da5730dedb63725a03eabf87c185a851ce9975367f26494a6abd6e4b560c65"
   }
  }
 },
 "nbformat": 4,
 "nbformat_minor": 2
}
