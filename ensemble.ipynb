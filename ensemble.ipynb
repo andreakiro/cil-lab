{
 "cells": [
  {
   "cell_type": "markdown",
   "metadata": {},
   "source": [
    "### Regression ensembling"
   ]
  },
  {
   "cell_type": "code",
   "execution_count": 1,
   "metadata": {},
   "outputs": [],
   "source": [
    "import pandas as pd\n",
    "\n",
    "test = pd.read_csv('log/ensemble/test_true.csv')['Prediction']\n",
    "bfm_preds = pd.read_csv('log/ensemble/bfm_preds.csv')['Prediction']\n",
    "als_preds = pd.read_csv('log/ensemble/als_preds.csv')['Prediction']\n",
    "funk_pred = pd.read_csv('log/ensemble/funk_preds.csv')['Prediction']\n",
    "sim_preds2 = pd.read_csv('log/ensemble/sim_preds_w_none_n_30.csv')['Prediction']\n",
    "sim_preds3 = pd.read_csv('log/ensemble/sim_preds_w_none_n_10000.csv')['Prediction']\n",
    "sim_preds4 = pd.read_csv('log/ensemble/sim_preds_w_normal_n_30.csv')['Prediction']\n",
    "sim_preds5 = pd.read_csv('log/ensemble/sim_preds_w_normal_n_10000.csv')['Prediction']\n",
    "sim_preds6 = pd.read_csv('log/ensemble/sim_preds_w_normal_n_30_improved.csv')['Prediction']\n",
    "sim_cosine = pd.read_csv('log/ensemble/sim_cosine.csv')['Prediction']\n",
    "sim_sigra = pd.read_csv('log/ensemble/sim_sigra.csv')['Prediction']"
   ]
  },
  {
   "cell_type": "code",
   "execution_count": 11,
   "metadata": {},
   "outputs": [
    {
     "name": "stdout",
     "output_type": "stream",
     "text": [
      "(235391, 8) (235391,)\n"
     ]
    }
   ],
   "source": [
    "import numpy as np\n",
    "\n",
    "X = np.stack((bfm_preds, sim_sigra, sim_cosine, sim_preds4, sim_preds2, sim_preds3, sim_preds5, sim_preds6), axis=1)\n",
    "y = test.values\n",
    "print(X.shape, y.shape)"
   ]
  },
  {
   "cell_type": "code",
   "execution_count": 12,
   "metadata": {},
   "outputs": [],
   "source": [
    "from sklearn.model_selection import RepeatedKFold, cross_val_score\n",
    "from sklearn.linear_model import LinearRegression, Lasso, Ridge\n",
    "import matplotlib.pyplot as plt\n",
    "from xgboost import XGBRegressor\n",
    "from sklearn.neural_network import MLPRegressor\n",
    "from sklearn.ensemble import RandomForestRegressor\n",
    "from sklearn.ensemble import VotingRegressor\n",
    "\n",
    "kf = RepeatedKFold(n_splits=5, n_repeats=3, random_state=42)\n",
    "results, names = [], []\n",
    "\n",
    "def get_ensemble():\n",
    "    models = list()\n",
    "    models.append(('LR', LinearRegression()))\n",
    "    models.append(('MLP', MLPRegressor(random_state=42, max_iter=1000)))\n",
    "    ensemble = VotingRegressor(estimators=models, n_jobs=-1)\n",
    "    return ensemble\n",
    "\n",
    "models = {\n",
    "    \"LinearReg\" : LinearRegression(),\n",
    "    \"Lasso\" : Lasso(alpha=0.001),\n",
    "    \"Ridge\" : Ridge(alpha=0.01),\n",
    "    \"XGBoost\" : XGBRegressor(n_estimators=100, max_depth=7, n_jobs=-1),\n",
    "    'MLP' : MLPRegressor(random_state=42, max_iter=1000),\n",
    "    'RF' : RandomForestRegressor(max_depth=2, random_state=0, n_jobs=-1),\n",
    "    'Ensemble' : get_ensemble(),\n",
    "}"
   ]
  },
  {
   "cell_type": "code",
   "execution_count": 13,
   "metadata": {},
   "outputs": [
    {
     "name": "stdout",
     "output_type": "stream",
     "text": [
      "LinearReg : 0.969404 (0.002067) Coef: 0.86228 -0.02797 0.00517 0.00960 0.12438 -0.61443 0.51634 0.10828\n"
     ]
    },
    {
     "data": {
      "image/png": "[encoded data removed]",
      "text/plain": [
       "<Figure size 432x288 with 1 Axes>"
      ]
     },
     "metadata": {
      "needs_background": "light"
     },
     "output_type": "display_data"
    }
   ],
   "source": [
    "for name, model in models.items():\n",
    "    scores = cross_val_score(model, X, y, scoring='neg_root_mean_squared_error', cv=kf, n_jobs=-1)\n",
    "    if(name == \"LinearReg\"): model.fit(X, y) \n",
    "    if(name == \"Lasso\"): model.fit(X, y) \n",
    "    results.append((-scores))\n",
    "    names.append(name)\n",
    "    print(name, ': %.6f (%.6f)' % (np.mean(-scores), np.std(-scores)), \"Coef: \" + \" \".join([\"%0.5f\" % x for x in model.coef_]) if name == \"LinearReg\" or name == \"Lasso\" else \"\")\n",
    "    break\n",
    "# plot model performance for comparison\n",
    "plt.boxplot(results, labels=names, showmeans=True)\n",
    "plt.show()"
   ]
  },
  {
   "cell_type": "markdown",
   "metadata": {},
   "source": [
    "| Models | rmse | std|\n",
    "|---|---|---|\n",
    "|BFM+PCC_30|0.969686|0.002034|\n",
    "|BFM + all_PCC| **0.969395**|  0.002066 |\n",
    "|BFM + PCC_30 + SiGra + Cosine| 0.969561  |  0.002044 |   \n",
    "| BFM + all_similarities | 0.969404 | 0.002067|"
   ]
  },
  {
   "cell_type": "markdown",
   "metadata": {},
   "source": [
    "### Generate final submission\n",
    "Load training and test data."
   ]
  },
  {
   "cell_type": "code",
   "execution_count": null,
   "metadata": {},
   "outputs": [],
   "source": [
    "from utils.utils import load_data, get_input_matrix, load_submission_data, get_test_mask, generate_submission, get_preds_from_matrix\n",
    "\n",
    "data = load_data('data/data_train.csv')\n",
    "X_train, W_train = get_input_matrix(data)\n",
    "X_test = load_submission_data('data/sampleSubmission.csv')\n",
    "W_test = get_test_mask(X_test)"
   ]
  },
  {
   "cell_type": "markdown",
   "metadata": {},
   "source": [
    "Train the individual models for the ensemble."
   ]
  },
  {
   "cell_type": "code",
   "execution_count": null,
   "metadata": {},
   "outputs": [],
   "source": [
    "from models.matrix_factorization import BFM\n",
    "from models.similarity import SimilarityMethods\n",
    "\n",
    "N_USERS = 10000\n",
    "N_MOVIES = 1000\n",
    "\n",
    "bfm_model = BFM(50, 0, N_MOVIES, 50, verbose=1, with_ord=True, with_iu=True, with_ii=True)\n",
    "bfm_model.fit(data, None, None, iter=500)\n",
    "bfm_preds = bfm_model.predict(X_test)\n",
    "# Similarity predictions\n",
    "sim_model = SimilarityMethods(0, N_USERS, N_MOVIES, similarity_measure=\"PCC\", weighting='normal', method=\"item\", k=30, signifiance_threshold=None)\n",
    "sim_model.fit(X_train, None, W_train, log_rmse=False)\n",
    "sim_preds_matrix = sim_model.predict(W_test, invert_norm=False)\n",
    "sim_preds = get_preds_from_matrix(X_test, sim_preds_matrix)"
   ]
  },
  {
   "cell_type": "markdown",
   "metadata": {},
   "source": [
    "Define the regression model and fit it with training data."
   ]
  },
  {
   "cell_type": "code",
   "execution_count": null,
   "metadata": {},
   "outputs": [],
   "source": [
    "regressor = LinearRegression()\n",
    "regressor.fit(X, y)"
   ]
  },
  {
   "cell_type": "markdown",
   "metadata": {},
   "source": [
    "Predict results for test data."
   ]
  },
  {
   "cell_type": "code",
   "execution_count": null,
   "metadata": {},
   "outputs": [],
   "source": [
    "y_test = np.stack((bfm_preds, sim_preds), axis=1)\n",
    "regressor_preds = regressor.predict(y_test)"
   ]
  },
  {
   "cell_type": "markdown",
   "metadata": {},
   "source": [
    "Save the final submissions."
   ]
  },
  {
   "cell_type": "code",
   "execution_count": null,
   "metadata": {},
   "outputs": [],
   "source": [
    "generate_submission(regressor_preds, 'data/sampleSubmission.csv')"
   ]
  }
 ],
 "metadata": {
  "kernelspec": {
   "display_name": "Python 3.8.13 ('cil')",
   "language": "python",
   "name": "python3"
  },
  "language_info": {
   "codemirror_mode": {
    "name": "ipython",
    "version": 3
   },
   "file_extension": ".py",
   "mimetype": "text/x-python",
   "name": "python",
   "nbconvert_exporter": "python",
   "pygments_lexer": "ipython3",
   "version": "3.8.13"
  },
  "orig_nbformat": 4,
  "vscode": {
   "interpreter": {
    "hash": "59da5730dedb63725a03eabf87c185a851ce9975367f26494a6abd6e4b560c65"
   }
  }
 },
 "nbformat": 4,
 "nbformat_minor": 2
}
