{
 "cells": [
  {
   "cell_type": "markdown",
   "metadata": {},
   "source": [
    "### Regression ensembling"
   ]
  },
  {
   "cell_type": "code",
   "execution_count": null,
   "metadata": {},
   "outputs": [],
   "source": [
    "import pandas as pd\n",
    "import numpy as np\n",
    "\n",
    "test = pd.read_csv('log/ensemble/test_true.csv')['Prediction']\n",
    "bfm_preds = pd.read_csv('log/ensemble/bfm_preds.csv')['Prediction']\n",
    "als_preds = pd.read_csv('log/ensemble/als_preds.csv')['Prediction']\n",
    "funk_pred = pd.read_csv('log/ensemble/funk_preds.csv')['Prediction']\n",
    "sim_preds2 = pd.read_csv('log/ensemble/sim_preds_w_none_n_30.csv')['Prediction']\n",
    "sim_preds3 = pd.read_csv('log/ensemble/sim_preds_w_none_n_10000.csv')['Prediction']\n",
    "sim_preds4 = pd.read_csv('log/ensemble/sim_preds_w_normal_n_30.csv')['Prediction']\n",
    "sim_preds5 = pd.read_csv('log/ensemble/sim_preds_w_normal_n_10000.csv')['Prediction']\n",
    "sim_preds6 = pd.read_csv('log/ensemble/sim_preds_w_normal_n_30_improved.csv')['Prediction']\n",
    "sim_cosine = pd.read_csv('log/ensemble/sim_cosine.csv')['Prediction']\n",
    "sim_sigra = pd.read_csv('log/ensemble/sim_sigra.csv')['Prediction']\n",
    "deeprec = pd.read_csv('log/ensemble/deeprec.csv')['Prediction']\n",
    "deeprec300 = pd.read_csv('log/ensemble/deeprec_300.csv')['Prediction']"
   ]
  },
  {
   "cell_type": "code",
   "execution_count": null,
   "metadata": {},
   "outputs": [],
   "source": [
    "import numpy as np\n",
    "\n",
    "X = np.stack((bfm_preds, sim_preds4, sim_preds3, sim_preds2, sim_preds5, sim_preds6), axis=1)\n",
    "y = test.values\n",
    "print(X.shape, y.shape)"
   ]
  },
  {
   "cell_type": "code",
   "execution_count": null,
   "metadata": {},
   "outputs": [],
   "source": [
    "from sklearn.model_selection import RepeatedKFold, cross_val_score\n",
    "from sklearn.linear_model import LinearRegression, Lasso, Ridge\n",
    "import matplotlib.pyplot as plt\n",
    "from xgboost import XGBRegressor\n",
    "from sklearn.neural_network import MLPRegressor\n",
    "from sklearn.ensemble import RandomForestRegressor\n",
    "from sklearn.ensemble import VotingRegressor\n",
    "\n",
    "kf = RepeatedKFold(n_splits=5, n_repeats=3, random_state=42)\n",
    "results, names = [], []\n",
    "\n",
    "def get_ensemble():\n",
    "    models = list()\n",
    "    models.append(('LR', LinearRegression()))\n",
    "    models.append(('MLP', MLPRegressor(random_state=42, max_iter=1000)))\n",
    "    ensemble = VotingRegressor(estimators=models, n_jobs=-1)\n",
    "    return ensemble\n",
    "\n",
    "models = {\n",
    "    \"LinearReg\" : LinearRegression(),\n",
    "    \"Lasso\" : Lasso(alpha=0.001),\n",
    "    \"Ridge\" : Ridge(alpha=0.01),\n",
    "    \"XGBoost\" : XGBRegressor(n_estimators=100, max_depth=7, n_jobs=-1),\n",
    "    'MLP' : MLPRegressor(random_state=42, max_iter=1000),\n",
    "    'RF' : RandomForestRegressor(max_depth=2, random_state=0, n_jobs=-1),\n",
    "    'Ensemble' : get_ensemble(),\n",
    "}"
   ]
  },
  {
   "cell_type": "code",
   "execution_count": null,
   "metadata": {},
   "outputs": [],
   "source": [
    "for name, model in models.items():\n",
    "    scores = cross_val_score(model, X, y, scoring='neg_root_mean_squared_error', cv=kf, n_jobs=-1)\n",
    "    if(name == \"LinearReg\"): model.fit(X, y) \n",
    "    if(name == \"Lasso\"): model.fit(X, y) \n",
    "    results.append((-scores))\n",
    "    names.append(name)\n",
    "    print(name, ': %.6f (%.6f)' % (np.mean(-scores), np.std(-scores)), \"Coef: \" + \" \".join([\"%0.5f\" % x for x in model.coef_]) if name == \"LinearReg\" or name == \"Lasso\" else \"\")\n",
    "    break \n",
    "\n",
    "# plot model performance for comparison\n",
    "plt.boxplot(results, labels=names, showmeans=True)\n",
    "plt.show()"
   ]
  },
  {
   "cell_type": "markdown",
   "metadata": {},
   "source": [
    "| Models | rmse | std|\n",
    "|---|---|---|\n",
    "|BFM|0.970204|0.002051|\n",
    "|BFM + PCC_30|0.969686|0.002034|\n",
    "|BFM + all_PCC| **0.969395**|  0.002066 |\n",
    "|BFM + PCC_30 + SiGra + Cosine| 0.969561  |  0.002044 |   \n",
    "| BFM + all_similarities | 0.969404 | 0.002067|\n",
    "|BFM + DeepRec + PCC_30 | 0.969691 | 0.002037 |"
   ]
  },
  {
   "cell_type": "markdown",
   "metadata": {},
   "source": [
    "## Generate final submission\n",
    "Load test data."
   ]
  },
  {
   "cell_type": "code",
   "execution_count": null,
   "metadata": {},
   "outputs": [],
   "source": [
    "from utils.utils import generate_submission\n",
    "\n",
    "bfm_preds = pd.read_csv('log/ensemble_test/bfm.csv')['Prediction']\n",
    "sim_preds2 = pd.read_csv('log/ensemble_test/sim_preds_w_none_n_30.csv')['Prediction']\n",
    "sim_preds3 = pd.read_csv('log/ensemble_test/sim_preds_w_none_n_10000.csv')['Prediction']\n",
    "sim_preds4 = pd.read_csv('log/ensemble_test/sim_preds_w_normal_n_30.csv')['Prediction']\n",
    "sim_preds5 = pd.read_csv('log/ensemble_test/sim_preds_w_normal_n_10000.csv')['Prediction']\n",
    "sim_preds6 = pd.read_csv('log/ensemble_test/sim_preds_w_normal_n_30_improved.csv')['Prediction']\n",
    "deeprec = pd.read_csv('log/ensemble_test/deeprec.csv')['Prediction']"
   ]
  },
  {
   "cell_type": "markdown",
   "metadata": {},
   "source": [
    "Define the regression model and fit it with training data."
   ]
  },
  {
   "cell_type": "code",
   "execution_count": null,
   "metadata": {},
   "outputs": [],
   "source": [
    "regressor = LinearRegression()\n",
    "regressor.fit(X, y)"
   ]
  },
  {
   "cell_type": "markdown",
   "metadata": {},
   "source": [
    "Predict results for test data."
   ]
  },
  {
   "cell_type": "code",
   "execution_count": null,
   "metadata": {},
   "outputs": [],
   "source": [
    "X_test = np.stack((bfm_preds, sim_preds2, sim_preds3, sim_preds4, sim_preds5, sim_preds6), axis=1)\n",
    "regressor_preds = regressor.predict(X_test)"
   ]
  },
  {
   "cell_type": "markdown",
   "metadata": {},
   "source": [
    "Save the final submissions."
   ]
  },
  {
   "cell_type": "code",
   "execution_count": null,
   "metadata": {},
   "outputs": [],
   "source": [
    "generate_submission(regressor_preds, 'data/sampleSubmission.csv', name=\"ensemble_BFM_all_sim.zip\")"
   ]
  },
  {
   "cell_type": "markdown",
   "metadata": {},
   "source": [
    "Submit to Kaggle."
   ]
  },
  {
   "cell_type": "code",
   "execution_count": null,
   "metadata": {},
   "outputs": [],
   "source": [
    "from utils.utils import submit_on_kaggle\n",
    "submit_on_kaggle(name=\"ensemble_BFM_all_sim.zip\", message=\"Linear Regression ensembling, BFM + all similarities except sim_preds_w_None_n_10000\")"
   ]
  }
 ],
 "metadata": {
  "kernelspec": {
   "display_name": "Python 3.8.13 ('cil')",
   "language": "python",
   "name": "python3"
  },
  "language_info": {
   "codemirror_mode": {
    "name": "ipython",
    "version": 3
   },
   "file_extension": ".py",
   "mimetype": "text/x-python",
   "name": "python",
   "nbconvert_exporter": "python",
   "pygments_lexer": "ipython3",
   "version": "3.8.13"
  },
  "orig_nbformat": 4,
  "vscode": {
   "interpreter": {
    "hash": "59da5730dedb63725a03eabf87c185a851ce9975367f26494a6abd6e4b560c65"
   }
  }
 },
 "nbformat": 4,
 "nbformat_minor": 2
}
